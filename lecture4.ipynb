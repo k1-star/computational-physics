{
 "cells": [
  {
   "cell_type": "code",
   "execution_count": 10,
   "metadata": {},
   "outputs": [
    {
     "name": "stdout",
     "output_type": "stream",
     "text": [
      "True\n"
     ]
    },
    {
     "data": {
      "text/plain": [
       "False"
      ]
     },
     "execution_count": 10,
     "metadata": {},
     "output_type": "execute_result"
    }
   ],
   "source": [
    "import sys\n",
    "from math import sqrt\n",
    "import random\n",
    "\n",
    "def is_prime(n):\n",
    "    if n <= 1:\n",
    "        return False\n",
    "    for i in range(2, int(sqrt(n)) + 1):\n",
    "        if n % i == 0:\n",
    "            return False\n",
    "    return True\n",
    "\n",
    "def is_prime_improved(n):\n",
    "    if n <= 1:\n",
    "        return False\n",
    "    if n <= 3:\n",
    "        return True\n",
    "    if n % 2 == 0 or n % 3 == 0:\n",
    "        return False\n",
    "    i = 5\n",
    "    while i * i <= n:\n",
    "        if n % i == 0 or n % (i + 2) == 0:\n",
    "            return False\n",
    "        i += 6\n",
    "    return True\n",
    "\n",
    "def miller_rabin(n, k=5): \n",
    "    if n <= 1:\n",
    "        return False\n",
    "    if n <= 3:\n",
    "        return True\n",
    "    if n % 2 == 0:\n",
    "        return False\n",
    "\n",
    "    r = 0\n",
    "    d = n - 1\n",
    "    while d % 2 == 0:#after r iterations, d is odd.\n",
    "        d //= 2\n",
    "        r += 1\n",
    "\n",
    "    for i in range(k):\n",
    "        a = random.randint(2, n - 2)\n",
    "        x = pow(a, d, n)\n",
    "        if x == 1 or x == n - 1:\n",
    "            continue\n",
    "        for i in range(r - 1):\n",
    "             x = pow(x, 2, n)\n",
    "             if x == n - 1:\n",
    "                break\n",
    "        else:\n",
    "            return False  \n",
    "    return True\n",
    "print(is_prime(17))\n",
    "miller_rabin(1105)"
   ]
  },
  {
   "cell_type": "markdown",
   "metadata": {},
   "source": [
    "前两种算法复杂度为$O(\\sqrt{n})$,本质上是遍历了小于$\\sqrt{n}$的数字。后一种是Miller-Rabin素性测试，复杂度为$klog(n)$，$k$为测试次数.基于费马小定理,$p$ 是一个质数,并且$a$ 是一个小于$p$ 的整数，那么 $a^{p-1} ≡ 1 (mod\\  p)$,由于$p$ 为奇数，$p-1$ 为偶数,$a^{p-1}=(a^{c})^{2}$再利用平方差公式化简, 应当有$a^{c}+1$或$-1$整除$p$"
   ]
  },
  {
   "cell_type": "markdown",
   "metadata": {},
   "source": [
    "指数位为6，取偏移后为-30~31.小数为20位，加上隐含位后为21位。$lg(2^{21})=6.3$\n",
    "$$(-1)^{sign}(1+\\sum_{i=1}^{20}b_{20-i}\\cdot2^{-i})\\cdot2^{e}$$\n",
    "此处我们e取-31~32.边界值表示无穷大或非数\n",
    "\n",
    "范围：实际指数范围为-30~31.最小值$2^{-30}=9.3\\cdot10^{-10}$，最大值$(2-2^{-20})\\cdot2^{31}=4.29\\cdot10^{9}$\n",
    "\n",
    "精度：小数部分精度为$2^{-21}$，大约为十进制数字$21\\log_{10}{2}=6.3$ 位。\n",
    "\n",
    "间距：取决于e的取值，从$2^{n}~2^{n+1}$，间距为$2^{n-20}$."
   ]
  }
 ],
 "metadata": {
  "language_info": {
   "name": "python"
  }
 },
 "nbformat": 4,
 "nbformat_minor": 2
}
