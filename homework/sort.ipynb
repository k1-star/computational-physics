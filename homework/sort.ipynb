{
 "cells": [
  {
   "cell_type": "code",
   "execution_count": 8,
   "id": "cde76ccf",
   "metadata": {},
   "outputs": [
    {
     "name": "stdout",
     "output_type": "stream",
     "text": [
      "Sequence before sorting \n",
      " [2733 9846 3265 4860 9226 7892 4374 5875 6745 3469  706 2600 2223 7769\n",
      " 2898 9894  538 6217 6922 6037 2164 5073 4852 7878 2047 1872 7600 2497\n",
      " 8292  756  798  660 3220 8616 7457 3338 2746 4736 8737 6688  715 2293\n",
      " 8344 1208 6173 8995 7222 6022 3623 3561 8949 1642 4985 4354 8623 7251\n",
      " 4188 2660 9782 2957 2252 4421 7109 1072 5252 7013 9397 3919 9360 1685\n",
      " 7099 2958 4470 8753 9798 5796 1473 7264 7366 8449 6002 3763 9009 2436\n",
      " 1635  974 4465 8394 2419 3456 6168 5820 6522 6243 7743 9124 6739 2788\n",
      " 7317 4306]\n",
      "Sequence after sorting \n",
      " [ 538  660  706  715  756  798  974 1072 1208 1473 1635 1642 1685 1872\n",
      " 2047 2164 2223 2252 2293 2419 2436 2497 2600 2660 2733 2746 2788 2898\n",
      " 2957 2958 3220 3265 3338 3456 3469 3561 3623 3763 3919 4188 4306 4354\n",
      " 4374 4421 4465 4470 4736 4852 4860 4985 5073 5252 5796 5820 5875 6002\n",
      " 6022 6037 6168 6173 6217 6243 6522 6688 6739 6745 6922 7013 7099 7109\n",
      " 7222 7251 7264 7317 7366 7457 7600 7743 7769 7878 7892 8292 8344 8394\n",
      " 8449 8616 8623 8737 8753 8949 8995 9009 9124 9226 9360 9397 9782 9798\n",
      " 9846 9894]\n",
      "Used time 0.0010955333709716797\n"
     ]
    }
   ],
   "source": [
    "import time\n",
    "import numpy as np\n",
    "np.random.seed(seed=0)\n",
    "arr=np.random.randint(1,1e4,100)\n",
    "\n",
    "def bubblesort(arr):\n",
    "    for i in range(len(arr)):\n",
    "        for j in range(0,len(arr)-i-1):\n",
    "            if arr[j] > arr[j+1]:\n",
    "                arr[j], arr[j+1] = arr[j+1], arr[j]\n",
    "    return arr\n",
    "\n",
    "print('Sequence before sorting','\\n',arr)\n",
    "starttime=time.time()\n",
    "bubblesort(arr)\n",
    "endtime=time.time()\n",
    "use_time=endtime-starttime\n",
    "print('Sequence after sorting','\\n',arr,)\n",
    "print('Used time',use_time)\n"
   ]
  },
  {
   "cell_type": "code",
   "execution_count": 7,
   "id": "ca6da0fc",
   "metadata": {},
   "outputs": [
    {
     "name": "stdout",
     "output_type": "stream",
     "text": [
      "Sequence before sorting \n",
      " [2611 5532 6927 7205 6923 4183  308 5303 1153 6951 8468 5295 1209 2493\n",
      " 8830  771 8287 5996 2345 3092 3913 1435 6595 5369 8373 7149 7998 3855\n",
      " 8033 8132 4846 5117 3534 2938 9838 4940 9745 3225 5022 1135   26 9681\n",
      "  957 1914 2935 9662 2722  929 5628 6266 5447  470 8718 1864 1721 5273\n",
      "  592 6186 2323  208 4263 3422 5250 8409 8217 5104 7940 2283 1741 6119\n",
      " 5847 3782 2776 2604 7180 6357 1163  624 8963 4052 1242 9014 4404 1199\n",
      " 2998 5662  808 2122 8068 3887 8923 6067 9988 1824  200 1448 5182 5209\n",
      " 6178 4864]\n",
      "Sequence after sorting \n",
      " [  26  200  208  308  470  592  624  771  808  929  957 1135 1153 1163\n",
      " 1199 1209 1242 1435 1448 1721 1741 1824 1864 1914 2122 2283 2323 2345\n",
      " 2493 2604 2611 2722 2776 2935 2938 2998 3092 3225 3422 3534 3782 3855\n",
      " 3887 3913 4052 4183 4263 4404 4846 4864 4940 5022 5104 5117 5182 5209\n",
      " 5250 5273 5295 5303 5369 5447 5532 5628 5662 5847 5996 6067 6119 6178\n",
      " 6186 6266 6357 6595 6923 6927 6951 7149 7180 7205 7940 7998 8033 8068\n",
      " 8132 8217 8287 8373 8409 8468 8718 8830 8923 8963 9014 9662 9681 9745\n",
      " 9838 9988]\n",
      "Used time 0.0009622573852539062\n"
     ]
    }
   ],
   "source": [
    "def insertsort(arr):\n",
    "    for i in range(1, len(arr)):\n",
    "        key = arr[i]\n",
    "        j = i-1\n",
    "        while j >= 0 and key < arr[j]:\n",
    "            arr[j + 1] = arr[j]\n",
    "            j -= 1\n",
    "        arr[j + 1] = key\n",
    "    return arr\n",
    "\n",
    "arr=np.random.randint(1,1e4,100)\n",
    "print('Sequence before sorting','\\n',arr)\n",
    "starttime=time.time()\n",
    "insertsort(arr)\n",
    "endtime=time.time()\n",
    "use_time=endtime-starttime\n",
    "print('Sequence after sorting','\\n',arr)\n",
    "print('Used time',use_time)"
   ]
  },
  {
   "cell_type": "code",
   "execution_count": 20,
   "id": "21d9accf",
   "metadata": {},
   "outputs": [
    {
     "name": "stdout",
     "output_type": "stream",
     "text": [
      "Sequence before sorting \n",
      " [4746 3600 6931 1182 3005 2515 6787 2084 3348 3985 3608 7821 4452 7022\n",
      " 9923 6933 2989 2087 7211 7115  363 4649 1904 1460 6948  543 1800 7129\n",
      "  240 7316 2894 6120 5945 6118 7624   61 8217 3437 7464  368 4213 4113\n",
      " 6363 9007 7393 2655 1877 3864 3728 4269 5240 1592 6446 7139 3800  433\n",
      " 5510 8570 4328  882 1821 2117 5885  371 7074 7652 9777 5220 8154 1636\n",
      "  130 4296 9317 2638 7789 3251 1436 4193 1580 3860 6499 1326 8293 4433\n",
      " 4986 7084 6721  373 3169 1507 6425 9219 6654 3528 2252  244  375 4162\n",
      " 2513 6515]\n",
      "Sequence after sorting \n",
      " [np.int32(61), np.int32(130), np.int32(240), np.int32(244), np.int32(363), np.int32(368), np.int32(371), np.int32(373), np.int32(375), np.int32(433), np.int32(543), np.int32(882), np.int32(1182), np.int32(1326), np.int32(1436), np.int32(1460), np.int32(1507), np.int32(1580), np.int32(1592), np.int32(1636), np.int32(1800), np.int32(1821), np.int32(1877), np.int32(1904), np.int32(2084), np.int32(2087), np.int32(2117), np.int32(2252), np.int32(2513), np.int32(2515), np.int32(2638), np.int32(2655), np.int32(2894), np.int32(2989), np.int32(3005), np.int32(3169), np.int32(3251), np.int32(3348), np.int32(3437), np.int32(3528), np.int32(3600), np.int32(3608), np.int32(3728), np.int32(3800), np.int32(3860), np.int32(3864), np.int32(3985), np.int32(4113), np.int32(4162), np.int32(4193), np.int32(4213), np.int32(4269), np.int32(4296), np.int32(4328), np.int32(4433), np.int32(4452), np.int32(4649), np.int32(4746), np.int32(4986), np.int32(5220), np.int32(5240), np.int32(5510), np.int32(5885), np.int32(5945), np.int32(6118), np.int32(6120), np.int32(6363), np.int32(6425), np.int32(6446), np.int32(6499), np.int32(6515), np.int32(6654), np.int32(6721), np.int32(6787), np.int32(6931), np.int32(6933), np.int32(6948), np.int32(7022), np.int32(7074), np.int32(7084), np.int32(7115), np.int32(7129), np.int32(7139), np.int32(7211), np.int32(7316), np.int32(7393), np.int32(7464), np.int32(7624), np.int32(7652), np.int32(7789), np.int32(7821), np.int32(8154), np.int32(8217), np.int32(8293), np.int32(8570), np.int32(9007), np.int32(9219), np.int32(9317), np.int32(9777), np.int32(9923)]\n",
      "Used time 0.00021338462829589844\n"
     ]
    }
   ],
   "source": [
    "def combine(arr1, arr2):\n",
    "    result = []\n",
    "    i = j = 0\n",
    "    while i < len(arr1) and j < len(arr2):\n",
    "        if arr1[i] < arr2[j]:\n",
    "            result.append(arr1[i])\n",
    "            i += 1\n",
    "        else:\n",
    "            result.append(arr2[j])\n",
    "            j += 1\n",
    "    result.extend(arr1[i:])  # 添加剩余元素\n",
    "    result.extend(arr2[j:])\n",
    "    return result\n",
    "\n",
    "def mergesort(arr):\n",
    "    if len(arr) <= 1:  \n",
    "        return arr\n",
    "    mid = len(arr) // 2\n",
    "    left = mergesort(arr[:mid])  \n",
    "    right = mergesort(arr[mid:])  \n",
    "    return combine(left, right) \n",
    "\n",
    "arr=np.random.randint(1,1e4,100)\n",
    "print('Sequence before sorting','\\n',arr)\n",
    "starttime=time.time()\n",
    "arr=mergesort(arr)\n",
    "endtime=time.time()\n",
    "use_time=endtime-starttime\n",
    "print('Sequence after sorting','\\n',arr)\n",
    "print('Used time',use_time)\n"
   ]
  }
 ],
 "metadata": {
  "kernelspec": {
   "display_name": ".venv",
   "language": "python",
   "name": "python3"
  },
  "language_info": {
   "codemirror_mode": {
    "name": "ipython",
    "version": 3
   },
   "file_extension": ".py",
   "mimetype": "text/x-python",
   "name": "python",
   "nbconvert_exporter": "python",
   "pygments_lexer": "ipython3",
   "version": "3.13.2"
  }
 },
 "nbformat": 4,
 "nbformat_minor": 5
}
