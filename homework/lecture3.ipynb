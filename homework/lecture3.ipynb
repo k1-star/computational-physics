{
 "cells": [
  {
   "cell_type": "code",
   "execution_count": null,
   "metadata": {},
   "outputs": [],
   "source": [
    "str='I Don\\'t Like Python'\n",
    "print(str.upper())\n",
    "print(str.lower()) "
   ]
  },
  {
   "cell_type": "markdown",
   "metadata": {},
   "source": [
    "**upper()为大写，lower()为小写。**"
   ]
  },
  {
   "cell_type": "code",
   "execution_count": null,
   "metadata": {},
   "outputs": [],
   "source": [
    "str1=\"useful_file.txt\"\n",
    "str2=\".txt.txt.txt\"\n",
    "str3=\"txt.useful_file\"\n",
    "print(str1.removesuffix(\".txt\")) \n",
    "print(str2.removesuffix(\".txt\"))\n",
    "print(str3.removeprefix(\"txt.\"))"
   ]
  },
  {
   "cell_type": "markdown",
   "metadata": {},
   "source": [
    "**removesuffix()接受一个字符串作为参数，移除作用对象的这一后缀。它的原理是从后往前遍历直到找到第一段满足输入的连续字符，因此严格意义上不算“后缀”。(如str3演示的)**"
   ]
  },
  {
   "cell_type": "code",
   "execution_count": null,
   "metadata": {},
   "outputs": [],
   "source": [
    "import math\n",
    "\n",
    "pi = math.pi\n",
    "formatted_number = format(pi, '.4f')\n",
    "print(\"保留四位: \"+formatted_number)\n",
    "print(\"保留两位: {:.2f}\".format(pi))\n",
    "\n"
   ]
  },
  {
   "cell_type": "markdown",
   "metadata": {},
   "source": [
    "**format()函数用以格式化字符，基本语法{:}.format()，将占位符{}的位置按照选定的方式进行修改并插入。**\n",
    "\n",
    "帅气学长可以点个赞吗\"https://github.com/k1-star/computational-physics\""
   ]
  }
 ],
 "metadata": {
  "kernelspec": {
   "display_name": ".venv",
   "language": "python",
   "name": "python3"
  },
  "language_info": {
   "codemirror_mode": {
    "name": "ipython",
    "version": 3
   },
   "file_extension": ".py",
   "mimetype": "text/x-python",
   "name": "python",
   "nbconvert_exporter": "python",
   "pygments_lexer": "ipython3",
   "version": "3.13.2"
  }
 },
 "nbformat": 4,
 "nbformat_minor": 2
}
