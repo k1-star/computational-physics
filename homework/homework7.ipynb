{
 "cells": [
  {
   "cell_type": "markdown",
   "metadata": {},
   "source": [
    "# 第七次作业说明\n",
    "- 最大公约数函数和circle类的定义在文件`homework7func1.py`中，cylinder类继承自circle类，定义在`homework7func2.py`文件中。\n",
    "- 本文件包含测试和类的实现内容，且函数和类定义的具体代码附在每一个cell之后。\n"
   ]
  },
  {
   "cell_type": "code",
   "execution_count": 9,
   "metadata": {},
   "outputs": [
    {
     "name": "stdout",
     "output_type": "stream",
     "text": [
      "2\n",
      "13\n",
      "1\n"
     ]
    }
   ],
   "source": [
    "from homework7func1 import largestcommonfactor\n",
    "\n",
    "b = [2, 4]\n",
    "print(largestcommonfactor(b))\n",
    "k=[13,39,78]\n",
    "print(largestcommonfactor(k))\n",
    "p=[14,2348,7,99]\n",
    "print(largestcommonfactor(p))"
   ]
  },
  {
   "cell_type": "markdown",
   "metadata": {},
   "source": [
    "**本作业采用递归的方法和numpy库的gcd方法编写函数，不断拆分问题规模直到规模为2。**<br>\n",
    "`homework7func1.py`\n",
    "```python\n",
    "import numpy as np  \n",
    "def largestcommonfactor(a):  \n",
    "    if(len(a)==2):  \n",
    "        return np.gcd(a[0],a[1])  \n",
    "    else:  \n",
    "        return np.gcd(a[0],largestcommonfactor(a[1:]))  \n",
    "```\n",
    "**若无法使用外部库，这是一个求解的函数:**\n",
    "```python\n",
    "def gcd(a,b):\n",
    "    def gcd(a, b):\n",
    "    while b != 0:\n",
    "        a, b = b, a % b\n",
    "    return a\n",
    "    "
   ]
  },
  {
   "cell_type": "code",
   "execution_count": null,
   "metadata": {},
   "outputs": [],
   "source": [
    "from homework7func1 import circle\n",
    "\n",
    "circle1 = circle(5, [0, 0])\n",
    "circle1.printarea()\n",
    "circle1.printperimeter()\n",
    "circle1.printlocation()\n",
    "circle1.printradius()"
   ]
  },
  {
   "cell_type": "markdown",
   "metadata": {},
   "source": [
    "\n",
    "`homework7func1.py`\n",
    "```python\n",
    "class circle:\n",
    "    def __init__(self, radius, location):\n",
    "        self.radius = radius\n",
    "        self.location=location\n",
    "    def printarea(self):\n",
    "        print( 3.14 * self.radius * self.radius)\n",
    "    def printperimeter(self):\n",
    "        print( 2 * 3.14 * self.radius)\n",
    "    def printlocation(self):\n",
    "        print(self.location)\n",
    "    def printradius(self):\n",
    "        print(self.radius)  \n"
   ]
  },
  {
   "cell_type": "code",
   "execution_count": null,
   "metadata": {},
   "outputs": [
    {
     "name": "stdout",
     "output_type": "stream",
     "text": [
      "78.5\n",
      "785.0\n"
     ]
    }
   ],
   "source": [
    "from homework7func2 import cylinder\n",
    "\n",
    "cylinder1 = cylinder(5, [0, 0], 10)\n",
    "cylinder1.printarea()  \n",
    "cylinder1.printvolume()"
   ]
  },
  {
   "cell_type": "markdown",
   "metadata": {},
   "source": [
    "**从homework7func1中导入circle类并继承radius, location属性**  \n",
    "\n",
    "`homework7func2.py`\n",
    "```python\n",
    "from homework7func1 import circle\n",
    "class cylinder(circle):\n",
    "    def __init__(self, radius, location, height):\n",
    "        super().__init__(radius, location)\n",
    "        self.height = height\n",
    "    def printvolume(self):\n",
    "        print(3.14 * self.radius * self.radius * self.height)\n"
   ]
  }
 ],
 "metadata": {
  "kernelspec": {
   "display_name": ".venv",
   "language": "python",
   "name": "python3"
  },
  "language_info": {
   "codemirror_mode": {
    "name": "ipython",
    "version": 3
   },
   "file_extension": ".py",
   "mimetype": "text/x-python",
   "name": "python",
   "nbconvert_exporter": "python",
   "pygments_lexer": "ipython3",
   "version": "3.13.2"
  }
 },
 "nbformat": 4,
 "nbformat_minor": 2
}
