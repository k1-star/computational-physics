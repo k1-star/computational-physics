{
 "cells": [
  {
   "cell_type": "code",
   "execution_count": 1,
   "metadata": {},
   "outputs": [
    {
     "name": "stdout",
     "output_type": "stream",
     "text": [
      "Djy\n",
      "Lzh\n",
      "Sjc\n"
     ]
    }
   ],
   "source": [
    "friends=['djy','lzh','sjc']\n",
    "for friend in friends:\n",
    "    print(friend.title())"
   ]
  },
  {
   "cell_type": "code",
   "execution_count": null,
   "metadata": {},
   "outputs": [
    {
     "name": "stdout",
     "output_type": "stream",
     "text": [
      "I'd like to own a BYD car.\n"
     ]
    }
   ],
   "source": [
    "brands=['BYD','Xiaomi','Benz']\n",
    "print(\"I'd like to own a \"+brands[0]+\" car.\")"
   ]
  },
  {
   "cell_type": "code",
   "execution_count": 4,
   "metadata": {},
   "outputs": [
    {
     "name": "stdout",
     "output_type": "stream",
     "text": [
      "['electromagnetics', 'calculus']\n"
     ]
    }
   ],
   "source": [
    "courses=['calculus','thermodynamics','english','c++']\n",
    "courses.insert(0,'electromagnetics')\n",
    "courses.pop()\n",
    "del courses[2]\n",
    "courses.remove('english')   \n",
    "print(courses)"
   ]
  },
  {
   "cell_type": "code",
   "execution_count": 7,
   "metadata": {},
   "outputs": [
    {
     "name": "stdout",
     "output_type": "stream",
     "text": [
      "You are a kid.\n"
     ]
    }
   ],
   "source": [
    "age=input(\"How old are you?\")\n",
    "age=int(age)\n",
    "if age<=2:\n",
    "    print(\"You are a baby.\")\n",
    "elif age<=4:\n",
    "    print(\"You are a toddler.\")\n",
    "elif age<=13:\n",
    "    print(\"You are a kid.\")\n",
    "elif age<=18:\n",
    "    print(\"You are a teenager.\")\n",
    "elif age<=65:\n",
    "    print(\"You are an adult.\")\n",
    "else:\n",
    "    print(\"You are an elder.\")"
   ]
  },
  {
   "cell_type": "code",
   "execution_count": 8,
   "metadata": {},
   "outputs": [
    {
     "name": "stdout",
     "output_type": "stream",
     "text": [
      "Hello admin, would you like to see a status report\n",
      "Hello djy, thank you for logging in again.\n",
      "Hello lzh, thank you for logging in again.\n",
      "Hello sjc, thank you for logging in again.\n",
      "Hello zjy, thank you for logging in again.\n"
     ]
    }
   ],
   "source": [
    "users=['admin','djy','lzh','sjc','zjy']\n",
    "for user in users:\n",
    "    if user=='admin':\n",
    "            print(\"Hello admin, would you like to see a status report\")\n",
    "    else:\n",
    "        print(\"Hello \"+user+\", thank you for logging in again.\")\n"
   ]
  },
  {
   "cell_type": "code",
   "execution_count": 11,
   "metadata": {},
   "outputs": [
    {
     "name": "stdout",
     "output_type": "stream",
     "text": [
      "1st\n",
      "2nd\n",
      "3rd\n",
      "4th\n",
      "5th\n",
      "6th\n",
      "7th\n",
      "8th\n",
      "9th\n"
     ]
    }
   ],
   "source": [
    "numbers=range(1,10)\n",
    "for number in numbers:\n",
    "    if number==1:\n",
    "        print(\"1st\")\n",
    "    elif number==2:\n",
    "        print(\"2nd\")\n",
    "    elif number==3:\n",
    "        print(\"3rd\")\n",
    "    else:\n",
    "        print(str(number)+\"th\")"
   ]
  },
  {
   "cell_type": "code",
   "execution_count": null,
   "metadata": {},
   "outputs": [
    {
     "name": "stdout",
     "output_type": "stream",
     "text": [
      "[3, 7, 31, 127, 8191, 131071]\n"
     ]
    }
   ],
   "source": [
    "def is_prime(n):\n",
    "    if n <= 1:\n",
    "        return False\n",
    "    if n <= 3:\n",
    "        return True\n",
    "    if n % 2 == 0 or n % 3 == 0:\n",
    "        return False\n",
    "    i = 5\n",
    "    while i * i <= n:\n",
    "        if n % i == 0 or n % (i + 2) == 0:\n",
    "            return False\n",
    "        i += 6\n",
    "    return True\n",
    "save = []\n",
    "x = 1\n",
    "while 2**x - 1 < 200000:\n",
    "    num = 2**x - 1\n",
    "    if is_prime(num):\n",
    "        save.append(num)\n",
    "    x += 1\n",
    "print(save)"
   ]
  },
  {
   "cell_type": "code",
   "execution_count": null,
   "metadata": {},
   "outputs": [
    {
     "name": "stdout",
     "output_type": "stream",
     "text": [
      "2 is a prime number\n",
      "3 is a prime number\n",
      "4 equals 2 * 2\n",
      "5 is a prime number\n",
      "6 equals 2 * 3\n",
      "7 is a prime number\n",
      "8 equals 2 * 4\n",
      "9 equals 3 * 3\n"
     ]
    }
   ],
   "source": [
    "for n in range(2, 10):\n",
    "  for x in range(2, n):\n",
    "   if n % x == 0:\n",
    "    print(n, 'equals', x, '*', n//x)\n",
    "    continue\n",
    "  else:\n",
    "   print(n, 'is a prime number')"
   ]
  },
  {
   "cell_type": "markdown",
   "metadata": {},
   "source": [
    "**break改成continue后内层循环不会终止，内层for循环正常结束后运行else后的代码，(触发break时else后面不运行)而print里的n是外层for循环的n，因此对(2,10)范围里面的每一个数都会输出。**"
   ]
  },
  {
   "cell_type": "code",
   "execution_count": 1,
   "metadata": {},
   "outputs": [
    {
     "name": "stdout",
     "output_type": "stream",
     "text": [
      "\n"
     ]
    }
   ],
   "source": [
    "\n",
    "\n",
    "prompt = \"\\nTell me something, and I will repeat it back to you:\"\n",
    "prompt += \"\\nEnter 'quit' to end the program.(Just a kidding, entering 'realquit' works.)\"\n",
    "\n",
    "\n",
    "while True:\n",
    "    message = input(prompt)\n",
    "    if message == 'quit':\n",
    "        continue\n",
    "    elif message == 'realquit':\n",
    "        break\n",
    "    else:\n",
    "        print(message)\n",
    "\n",
    "\n"
   ]
  },
  {
   "cell_type": "markdown",
   "metadata": {},
   "source": [
    "**将break改为continue后，代码不会像原本那样退出，而是将永无止境的运行下去，只能通过强行终止任务来结束运行，输入**`realquit` **以退出这段代码。**"
   ]
  }
 ],
 "metadata": {
  "kernelspec": {
   "display_name": ".venv",
   "language": "python",
   "name": "python3"
  },
  "language_info": {
   "codemirror_mode": {
    "name": "ipython",
    "version": 3
   },
   "file_extension": ".py",
   "mimetype": "text/x-python",
   "name": "python",
   "nbconvert_exporter": "python",
   "pygments_lexer": "ipython3",
   "version": "3.13.2"
  }
 },
 "nbformat": 4,
 "nbformat_minor": 2
}
