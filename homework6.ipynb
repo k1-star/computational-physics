{
 "cells": [
  {
   "cell_type": "code",
   "execution_count": 5,
   "metadata": {},
   "outputs": [
    {
     "name": "stdout",
     "output_type": "stream",
     "text": [
      "{'firstname': 'Lee', 'lastname': 'ZhengHong', 'age': 18, 'homeland': 'ShenZhen', 'student_id': '524072910030'}\n",
      "Lee ZhengHong is 18 years old, from ShenZhen, student_id is 524072910030\n"
     ]
    }
   ],
   "source": [
    "individuals={\"firstname\":\"Lee\",\"lastname\":\"ZhengHong\",\"age\":18,\"homeland\":\"ShenZhen\",\"student_id\":\"524072910030\"}\n",
    "print(individuals)\n",
    "print(individuals[\"firstname\"]+\" \"+individuals[\"lastname\"]+\" is \"+str(individuals[\"age\"])+\" years old, from \"+individuals[\"homeland\"]+\", student_id is \"+individuals[\"student_id\"])"
   ]
  },
  {
   "cell_type": "code",
   "execution_count": null,
   "metadata": {},
   "outputs": [
    {
     "name": "stdout",
     "output_type": "stream",
     "text": [
      "ShenZhen city is in GuangDong\n",
      "ShangHai city is in ShangHai\n",
      "BeiJing city is in BeiJing\n",
      "ChengDu city is in SiChuan\n",
      "HangZhou city is in ZheJiang\n"
     ]
    }
   ],
   "source": [
    "cities={\"ShenZhen\":\"GuangDong province\",\"ShangHai\":\"ShangHai\",\"BeiJing\":\"BeiJing\",\"ChengDu\":\"SiChuan province\",\"HangZhou\":\"ZheJiang province\"}\n",
    "for city in cities:\n",
    "    print(city+\" city is in \"+cities[city])"
   ]
  },
  {
   "cell_type": "code",
   "execution_count": 11,
   "metadata": {},
   "outputs": [
    {
     "name": "stdout",
     "output_type": "stream",
     "text": [
      "{'Messi': 'athlete', 'Bill Gates': 'businessman', 'Trump': 'politician', 'lizhenghong': 'student', 'Mr. qinmingpu': 'teacher', 'Mr. zhangjie': 'ex-president'}\n"
     ]
    }
   ],
   "source": [
    "direc1={\"Messi\":\"athlete\",\"Bill Gates\":\"businessman\",\"Trump\":\"politician\"}\n",
    "direc2={\"lizhenghong\":\"student\",\"Mr. qinmingpu\":\"teacher\",\"Mr. zhangjie\":\"ex-president\"}\n",
    "#combine two dictionaries\n",
    "direc1.update(direc2)\n",
    "print(direc1)"
   ]
  },
  {
   "cell_type": "code",
   "execution_count": 14,
   "metadata": {},
   "outputs": [
    {
     "name": "stdout",
     "output_type": "stream",
     "text": [
      "No, it is not a multiple of 10.\n"
     ]
    }
   ],
   "source": [
    "def ten(n):\n",
    "    return n%10==0 and n!=0\n",
    "num=int(input(\"Please input a number:\"))\n",
    "if ten(num):\n",
    "    print(\"Yes, it is a multiple of 10.\")\n",
    "else:\n",
    "    print(\"No, it is not a multiple of 10.\")"
   ]
  },
  {
   "cell_type": "markdown",
   "metadata": {},
   "source": [
    "**取模运算应该注意取0的特殊情况**"
   ]
  },
  {
   "cell_type": "code",
   "execution_count": null,
   "metadata": {},
   "outputs": [],
   "source": [
    "def adult(age):\n",
    "    return age>=18\n",
    "age=int(input(\"Please input your age:\"))\n",
    "if adult(age):\n",
    "    print(\"Yes, you are an adult.\")"
   ]
  },
  {
   "cell_type": "code",
   "execution_count": 15,
   "metadata": {},
   "outputs": [
    {
     "name": "stdout",
     "output_type": "stream",
     "text": [
      "The price of the ticket is 100.\n"
     ]
    }
   ],
   "source": [
    "price=int(input(\"Please input the price of the ticket:\"))\n",
    "def ticket_price(age):\n",
    "    if age<6 :\n",
    "        return 0\n",
    "    elif age>6 and age<=14:\n",
    "        return price*0.5\n",
    "    else:\n",
    "        return price\n",
    "age=int(input(\"Please input your age:\"))\n",
    "print(\"The price of the ticket is \"+str(ticket_price(age))+\".\")"
   ]
  },
  {
   "cell_type": "code",
   "execution_count": null,
   "metadata": {},
   "outputs": [
    {
     "name": "stdout",
     "output_type": "stream",
     "text": [
      "lzh like to take a vacation to beijing.\n"
     ]
    }
   ],
   "source": [
    "def travel():\n",
    "   while True: \n",
    "    name=input(\"Please input your name:\")\n",
    "    if name==\"quit\":\n",
    "        break\n",
    "    destination=input(\"Please input your favourite destination:\")\n",
    "    if destination==\"quit\":\n",
    "        break\n",
    "    print(name+\" likes to take a vacation to \"+destination+\".\")\n",
    "\n",
    "travel()"
   ]
  },
  {
   "cell_type": "code",
   "execution_count": null,
   "metadata": {},
   "outputs": [
    {
     "name": "stdout",
     "output_type": "stream",
     "text": [
      "6\n",
      "28\n",
      "496\n",
      "8128\n"
     ]
    }
   ],
   "source": []
  },
  {
   "cell_type": "code",
   "execution_count": null,
   "metadata": {},
   "outputs": [],
   "source": []
  }
 ],
 "metadata": {
  "kernelspec": {
   "display_name": ".venv",
   "language": "python",
   "name": "python3"
  },
  "language_info": {
   "codemirror_mode": {
    "name": "ipython",
    "version": 3
   },
   "file_extension": ".py",
   "mimetype": "text/x-python",
   "name": "python",
   "nbconvert_exporter": "python",
   "pygments_lexer": "ipython3",
   "version": "3.13.2"
  }
 },
 "nbformat": 4,
 "nbformat_minor": 2
}
