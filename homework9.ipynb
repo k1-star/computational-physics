{
 "cells": [
  {
   "cell_type": "code",
   "execution_count": null,
   "metadata": {},
   "outputs": [],
   "source": [
    "import numpy as np\n",
    "import matplotlib.pyplot as plt\n",
    "array=np.array(range(1,501))\n",
    "y=array**2.5\n",
    "plt.plot(array,y)\n",
    "plt.title(\"y=x^2.5\")\n",
    "plt.xlabel(\"x(1-500)\")\n",
    "plt.ylabel(\"y\")\n",
    "plt.grid()\n",
    "plt.scatter(array,y,c=y,cmap='jet')\n",
    "plt.colorbar(label='y value')\n",
    "plt.savefig('scatter_plot.png', dpi=1000, bbox_inches='tight')\n",
    "plt.show()"
   ]
  },
  {
   "cell_type": "markdown",
   "metadata": {},
   "source": [
    "# 预期输出:\n",
    "<br>\n",
    "<img src=\"scatter_plot.png\" alt=\"散点图\" width=\"500\">\n",
    "<br><br>需要先更新nbformat版本才能运行下方的代码:"
   ]
  },
  {
   "cell_type": "code",
   "execution_count": null,
   "metadata": {},
   "outputs": [],
   "source": [
    "from random import randint\n",
    "class Die:\n",
    " \"\"\"A class representing a single die.\"\"\"\n",
    " def __init__(self, num_sides):\n",
    "  self.num_sides = num_sides\n",
    " def roll(self):\n",
    " \n",
    "  return randint(1, self.num_sides)\n",
    "\n",
    "import plotly\n",
    "\n",
    "die_1 = Die(9)\n",
    "die_2 = Die(9)\n",
    "die_3 = Die(9)\n",
    "results = []\n",
    "for roll_num in range(50000):\n",
    " result = die_1.roll() + die_2.roll()+ die_3.roll()\n",
    " results.append(result)\n",
    "frequencies = []\n",
    "max_result = die_1.num_sides + die_2.num_sides+ die_3.num_sides\n",
    "poss_results = range(3, max_result+1)\n",
    "for value in poss_results:\n",
    " frequency = results.count(value)\n",
    " frequencies.append(frequency)\n",
    "title = \"Results of Rolling three 9-sides-die 50,000 Times\"\n",
    "labels = {'x': 'Result', 'y': 'Frequency of Result'}\n",
    "fig = plotly.express.bar(x=poss_results, y=frequencies, title=title, labels=labels)\n",
    "fig.update_layout(xaxis_dtick=1)              \n",
    "fig.show()\n",
    "plotly.offline.plot(fig, filename='die_rolls.html', auto_open=True)\n",
    "\n"
   ]
  },
  {
   "cell_type": "markdown",
   "metadata": {},
   "source": [
    "# 预期输出:\n",
    "<img src=\"sample.png\" alt=\"柱状图\" width=\"1000\">"
   ]
  }
 ],
 "metadata": {
  "kernelspec": {
   "display_name": ".venv",
   "language": "python",
   "name": "python3"
  },
  "language_info": {
   "codemirror_mode": {
    "name": "ipython",
    "version": 3
   },
   "file_extension": ".py",
   "mimetype": "text/x-python",
   "name": "python",
   "nbconvert_exporter": "python",
   "pygments_lexer": "ipython3",
   "version": "3.13.2"
  }
 },
 "nbformat": 4,
 "nbformat_minor": 2
}
