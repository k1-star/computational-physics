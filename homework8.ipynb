{
 "cells": [
  {
   "cell_type": "code",
   "execution_count": 11,
   "metadata": {},
   "outputs": [],
   "source": [
    "file_path='guet_book.txt'\n",
    "while True:\n",
    "    name=input(\"Enter your name: \")\n",
    "    if name == 'q':\n",
    "        break\n",
    "    name=name.title()\n",
    "    with open(file_path, 'a') as file:\n",
    "        file.write(name + '\\n')"
   ]
  },
  {
   "cell_type": "code",
   "execution_count": 9,
   "metadata": {},
   "outputs": [
    {
     "name": "stdout",
     "output_type": "stream",
     "text": [
      "你的生日在pi中\n"
     ]
    }
   ],
   "source": [
    "\n",
    "import mpmath\n",
    "mpmath.mp.dps = 500000  \n",
    "pi_digits = str(mpmath.pi)[2:]  \n",
    "with open('pi.txt', 'w') as file:\n",
    "    file.write(pi_digits)\n",
    "user_birth=input('输入生日')\n",
    "with open('pi.txt', 'r') as file:\n",
    "    pi_content = file.read()\n",
    "    if user_birth in pi_content:\n",
    "        print('你的生日在pi中')\n",
    "    else:\n",
    "        print('你的生日不在pi中')"
   ]
  },
  {
   "cell_type": "code",
   "execution_count": 5,
   "metadata": {},
   "outputs": [
    {
     "name": "stdout",
     "output_type": "stream",
     "text": [
      "-1\n",
      "Error, the input is not an integer\n"
     ]
    }
   ],
   "source": [
    "while True:\n",
    "    integer1 = input(\"请输入一个整数: \")\n",
    "    if integer1 == 'q':\n",
    "        break\n",
    "    try:\n",
    "        integer1 = int(integer1)\n",
    "    except ValueError:\n",
    "        print(\"Error, the input is not an integer\")\n",
    "    integer2 = input(\"请输入第二个整数: \")\n",
    "    if integer2 == 'q':\n",
    "        break\n",
    "    try:\n",
    "        integer2 = int(integer2)\n",
    "    except ValueError:\n",
    "        print(\"Error, the input is not an integer\")\n",
    "    print(integer1-integer2)"
   ]
  }
 ],
 "metadata": {
  "kernelspec": {
   "display_name": ".venv",
   "language": "python",
   "name": "python3"
  },
  "language_info": {
   "codemirror_mode": {
    "name": "ipython",
    "version": 3
   },
   "file_extension": ".py",
   "mimetype": "text/x-python",
   "name": "python",
   "nbconvert_exporter": "python",
   "pygments_lexer": "ipython3",
   "version": "3.13.2"
  }
 },
 "nbformat": 4,
 "nbformat_minor": 2
}
