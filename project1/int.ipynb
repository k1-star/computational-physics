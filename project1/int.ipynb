{
 "cells": [
  {
   "cell_type": "markdown",
   "id": "2834b1fa",
   "metadata": {},
   "source": [
    "# 期中作业说明：\n",
    "目标函数：$$\\frac{x^4\\cdot(1-x)^4}{1+x^2}$$ 我们利用不同方法求解：$$\\int^1_0\\frac{x^4\\cdot(1-x)^4}{1+x^2}$$\n",
    "该文件包含以下部分：\n",
    "1. Simpson法计算结果，并分析误差随步长变化的阶数。\n",
    "2. 梯形法和蒙特卡洛法的计算与误差分析\n",
    "3. 自适应积分法-对传统Simpson方法的改进。\n",
    "4. 对不同方法优劣的讨论分析。\n"
   ]
  },
  {
   "cell_type": "code",
   "execution_count": null,
   "id": "217b8f4b",
   "metadata": {},
   "outputs": [
    {
     "name": "stdout",
     "output_type": "stream",
     "text": [
      "积分结果为： 0.0012644892673427982\n",
      "误差为： 6.661338147750939e-15\n",
      "计算时间为： 0.00045680999755859375 秒\n"
     ]
    }
   ],
   "source": [
    "from math import pi\n",
    "import time\n",
    "def f(x):\n",
    "    return (x**4)*((1-x)**4)/(1+x**2)\n",
    "\n",
    "\n",
    "h=input(\"输入步长h:\")\n",
    "h=float(h)\n",
    "down=0\n",
    "up=1\n",
    "n=int((up-down)/h)\n",
    "\n",
    "starttime = time.time()\n",
    "for i in range(n):\n",
    "    x1=down+i*h\n",
    "    x2=down+(i+1)*h\n",
    "    result+=f(x1)+f(x2)+4*f((x1+x2)/2)\n",
    "result = result * h / 6\n",
    "endtime = time.time()\n",
    "time = endtime - starttime\n",
    "error=abs(result-22/7+pi)\n",
    "\n",
    "print(\"积分结果为：\",result)\n",
    "print(\"误差为：\",error)\n",
    "print(\"计算时间为：\", time, \"秒\")\n",
    "\n",
    "\n",
    "\n"
   ]
  },
  {
   "cell_type": "markdown",
   "id": "c98c1b91",
   "metadata": {},
   "source": [
    "我们取了步长为，对误差作图如下：![]进行多项式拟合"
   ]
  },
  {
   "cell_type": "code",
   "execution_count": null,
   "id": "93443235",
   "metadata": {},
   "outputs": [],
   "source": [
    "\n",
    "from math import pi\n",
    "import time\n",
    "def f(x):\n",
    "    return (x**4)*((1-x)**4)/(1+x**2)\n",
    "\n",
    "\n",
    "h=input(\"输入步长h:\")\n",
    "h=float(h)\n",
    "down=0\n",
    "up=1\n",
    "n=int((up-down)/h)\n",
    "\n",
    "starttime = time.time()\n",
    "result = 0\n",
    "for i in range(n):\n",
    "    x1=down+i*h\n",
    "    x2=down+(i+1)*h\n",
    "    result+=f(x1)+f(x2)\n",
    "result = result * h / 2\n",
    "endtime = time.time()\n",
    "time = endtime - starttime\n",
    "error=abs(result-22/7+pi)\n",
    "print(\"积分结果为：\",result)\n",
    "print(\"误差为：\",error)\n",
    "print(\"计算时间为：\", time, \"秒\")\n",
    "\n",
    "import random\n",
    "import time\n",
    "def f(x):\n",
    "    return (x**4)*((1-x)**4)/(1+x**2)\n",
    "\n",
    "n=int(input(\"输入随机点个数:\"))\n",
    "down=0\n",
    "up=1\n",
    "\n",
    "starttime = time.time()\n",
    "result = 0\n",
    "for i in range(n):\n",
    "    x=random.uniform(down,up)\n",
    "    result+=f(x)\n",
    "result = result * (up-down) / n\n",
    "endtime = time.time()\n",
    "time = endtime - starttime\n",
    "error=abs(result-22/7+pi)\n",
    "print(\"积分结果为：\",result)\n",
    "print(\"误差为：\",error)\n",
    "print(\"计算时间为：\", time, \"秒\")"
   ]
  },
  {
   "cell_type": "markdown",
   "id": "b13c339d",
   "metadata": {},
   "source": [
    "当我们对时间的要求高而对精度要求变低时，传统辛普森积分法在计算速度上存在缺陷，我们可以通过自适应积分进行优化--在积分过程中不断调整步长"
   ]
  },
  {
   "cell_type": "code",
   "execution_count": null,
   "id": "2d572ad5",
   "metadata": {},
   "outputs": [
    {
     "name": "stdout",
     "output_type": "stream",
     "text": [
      "积分结果为： 0.001264529738726233\n",
      "误差为： 4.047137647233967e-08\n",
      "计算时间为： 0.0003116130828857422 秒\n"
     ]
    }
   ],
   "source": [
    "import time\n",
    "\n",
    "def f(x):\n",
    "    return (x**4)*((1-x)**4)/(1+x**2)\n",
    "def adapt_int(func, a, b, tol):\n",
    "    def recur_int(func, a, b, tol):\n",
    "        mid = (a + b) / 2\n",
    "        left = (b - a) * (func(a) + func(b)) / 2\n",
    "        right = (mid - a) * (func(a) + func(mid)) / 2 + (b - mid) * (func(mid) + func(b)) / 2\n",
    "        if abs(left - right) < tol:\n",
    "            return right\n",
    "        else:\n",
    "            return recur_int(func, a, mid, tol / 2) + recur_int(func, mid, b, tol / 2)\n",
    "    return recur_int(func, a, b, tol)\n",
    "\n",
    "a = 0\n",
    "b = 1\n",
    "tol = 1e-6\n",
    "\n",
    "\n",
    "starttime = time.time()\n",
    "result = adapt_int(f, a, b, tol)\n",
    "endtime = time.time()\n",
    "time = endtime - starttime\n",
    "error=abs(result-22/7+pi)\n",
    "print(\"积分结果为：\",result)\n",
    "print(\"误差为：\",error)\n",
    "print(\"计算时间为：\", time, \"秒\")"
   ]
  },
  {
   "cell_type": "markdown",
   "id": "8ee996cb",
   "metadata": {},
   "source": [
    "# 结论：\n",
    "如果觉得代码不错，可以求个星星吗"
   ]
  }
 ],
 "metadata": {
  "kernelspec": {
   "display_name": ".venv",
   "language": "python",
   "name": "python3"
  },
  "language_info": {
   "codemirror_mode": {
    "name": "ipython",
    "version": 3
   },
   "file_extension": ".py",
   "mimetype": "text/x-python",
   "name": "python",
   "nbconvert_exporter": "python",
   "pygments_lexer": "ipython3",
   "version": "3.13.2"
  }
 },
 "nbformat": 4,
 "nbformat_minor": 5
}
